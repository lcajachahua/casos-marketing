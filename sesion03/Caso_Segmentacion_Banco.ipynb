{
 "cells": [
  {
   "cell_type": "markdown",
   "id": "8049b44c-7fbd-4da4-85ef-d985329f6736",
   "metadata": {},
   "source": [
    "# Modelo de Segmentación por Preferencias de Compra con Tarjeta para un Banco Retail"
   ]
  },
  {
   "cell_type": "markdown",
   "id": "0d72e849-b7bd-4c02-a7d0-7f1694470117",
   "metadata": {},
   "source": [
    "Utilizamos los patrones de compra con tarjeta de los clientes para poder armar una estrategia de fidelización a través de ofertas brindadas por los socios comerciales del banco"
   ]
  },
  {
   "cell_type": "markdown",
   "id": "f149b056-b73e-4880-beba-baeead36b093",
   "metadata": {},
   "source": [
    "### Cargar los datos"
   ]
  },
  {
   "cell_type": "code",
   "execution_count": null,
   "id": "1ec6972e-5afd-4d39-9c3e-e73908556075",
   "metadata": {},
   "outputs": [],
   "source": [
    "matriz<-read.csv(\"segmentacion.csv\")"
   ]
  },
  {
   "cell_type": "markdown",
   "id": "09709f06-d906-4de6-a067-763c988ac3ce",
   "metadata": {},
   "source": [
    "### Tamaño de la Matriz de Datos"
   ]
  },
  {
   "cell_type": "code",
   "execution_count": null,
   "id": "ef88bcd7-4fb9-4b88-a3fd-44154c81cc6a",
   "metadata": {},
   "outputs": [],
   "source": [
    "dim(matriz)"
   ]
  },
  {
   "cell_type": "markdown",
   "id": "9faee8d3-cf4e-4049-96da-8b069db761a3",
   "metadata": {},
   "source": [
    "### Visualizamos los primeros registros con 'head'"
   ]
  },
  {
   "cell_type": "code",
   "execution_count": null,
   "id": "cc0859ce-ed2f-4191-9442-d322ca76b6be",
   "metadata": {},
   "outputs": [],
   "source": [
    "head(matriz)"
   ]
  },
  {
   "cell_type": "markdown",
   "id": "38320be6-3ae1-4e2f-967f-3f409999e3c2",
   "metadata": {},
   "source": [
    "### Entrenamos el Modelo utilizando la función 'kmeans'"
   ]
  },
  {
   "cell_type": "code",
   "execution_count": null,
   "id": "bae80c02-1701-4e0d-9e98-2c10a64c4282",
   "metadata": {},
   "outputs": [],
   "source": [
    "seg6<-kmeans(matriz[2:25],6)"
   ]
  },
  {
   "cell_type": "markdown",
   "id": "3ec59b10-0e51-4e56-8375-704ec1645c27",
   "metadata": {},
   "source": [
    "### Visualizamos los resultados del objeto seg6"
   ]
  },
  {
   "cell_type": "code",
   "execution_count": null,
   "id": "c5a2998c-b0cb-42ac-8c94-aa4380bcff60",
   "metadata": {},
   "outputs": [],
   "source": [
    "seg6"
   ]
  },
  {
   "cell_type": "markdown",
   "id": "e8e8a4b8-81ed-44a3-9d9b-429c393d8625",
   "metadata": {},
   "source": [
    "### Exportamos los Centroides y Frecuencias"
   ]
  },
  {
   "cell_type": "code",
   "execution_count": null,
   "id": "a0ede8d0-3ac3-486c-b94e-944e9560e563",
   "metadata": {},
   "outputs": [],
   "source": [
    "write.csv(cbind(seg6$centers,n=seg6$size),\"arch06.csv\")"
   ]
  },
  {
   "cell_type": "markdown",
   "id": "e2cc7c97-96b9-4487-9805-d195c88c8220",
   "metadata": {},
   "source": [
    "### Probamos con 9 Segmentos"
   ]
  },
  {
   "cell_type": "code",
   "execution_count": null,
   "id": "888f409b-bbcc-40ae-836a-0a7629ce5a03",
   "metadata": {},
   "outputs": [],
   "source": [
    "seg9<-kmeans(matriz[2:25],9)\n",
    "write.csv(cbind(seg9$centers,n=seg9$size),\"arch9.csv\")"
   ]
  },
  {
   "cell_type": "markdown",
   "id": "50b23fe6-4ba1-486b-ba9a-311f4b6c10f7",
   "metadata": {},
   "source": [
    "### Pregunta: ¿Qué cantidad de Segmentos elegiría usted? Justifique brevemente"
   ]
  },
  {
   "cell_type": "markdown",
   "id": "266ed69b-2e51-4f8e-84fb-c4b990685e9b",
   "metadata": {},
   "source": []
  }
 ],
 "metadata": {
  "kernelspec": {
   "display_name": "R",
   "language": "R",
   "name": "ir"
  },
  "language_info": {
   "codemirror_mode": "r",
   "file_extension": ".r",
   "mimetype": "text/x-r-source",
   "name": "R",
   "pygments_lexer": "r",
   "version": "3.6.3"
  }
 },
 "nbformat": 4,
 "nbformat_minor": 5
}
