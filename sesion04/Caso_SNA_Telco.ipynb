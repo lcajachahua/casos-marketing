{
 "cells": [
  {
   "cell_type": "markdown",
   "id": "a479aa3e",
   "metadata": {},
   "source": [
    "# Caso: Análisis de CDR de una Empresa de Telecomunicaciones"
   ]
  },
  {
   "cell_type": "markdown",
   "id": "31837b5f",
   "metadata": {},
   "source": [
    "## Cargar archivos csv\n",
    "Utilizamos un Call Detail Record de ejemplo\n",
    "##### Clientes llamantes: 199\n",
    "##### Clientes llamados: 400\n",
    "##### Horizonte de tiempo: De Nov-2012 a Ene-2014 (15 meses)"
   ]
  },
  {
   "cell_type": "code",
   "execution_count": 1,
   "id": "b5c3d5cd",
   "metadata": {
    "tags": []
   },
   "outputs": [],
   "source": [
    "import pandas as pd\n",
    "import numpy as np \n",
    "import matplotlib.pyplot as plt\n",
    "import networkx as nx\n",
    "import time"
   ]
  },
  {
   "cell_type": "code",
   "execution_count": 2,
   "id": "b63670ca",
   "metadata": {
    "tags": []
   },
   "outputs": [],
   "source": [
    "h = pd.read_csv('llamadas.csv')"
   ]
  },
  {
   "cell_type": "markdown",
   "id": "de43483d",
   "metadata": {},
   "source": [
    "Revisamos la información del DataFrame"
   ]
  },
  {
   "cell_type": "code",
   "execution_count": 3,
   "id": "40409c12",
   "metadata": {
    "tags": []
   },
   "outputs": [
    {
     "name": "stdout",
     "output_type": "stream",
     "text": [
      "<class 'pandas.core.frame.DataFrame'>\n",
      "RangeIndex: 12362 entries, 0 to 12361\n",
      "Data columns (total 4 columns):\n",
      " #   Column        Non-Null Count  Dtype\n",
      "---  ------        --------------  -----\n",
      " 0   fromuserid    12362 non-null  int64\n",
      " 1   touserid      12362 non-null  int64\n",
      " 2   numbercalls   12362 non-null  int64\n",
      " 3   secondscalls  12362 non-null  int64\n",
      "dtypes: int64(4)\n",
      "memory usage: 386.4 KB\n"
     ]
    }
   ],
   "source": [
    "h.info()"
   ]
  },
  {
   "cell_type": "markdown",
   "id": "6e36ad79",
   "metadata": {},
   "source": [
    "Transformamos el DataFrame en un Grafo dirigido con pesos (cantidad de llamadas y duración)"
   ]
  },
  {
   "cell_type": "code",
   "execution_count": 5,
   "id": "40f64eab",
   "metadata": {
    "tags": []
   },
   "outputs": [],
   "source": [
    "G = nx.from_pandas_edgelist(h, source=\"fromuserid\", target=\"touserid\", edge_attr=[\"numbercalls\",\"secondscalls\"], create_using=nx.DiGraph())"
   ]
  },
  {
   "cell_type": "code",
   "execution_count": 7,
   "id": "ffa44778-1f85-4c31-8b2e-b56bce63bfcb",
   "metadata": {
    "tags": []
   },
   "outputs": [
    {
     "name": "stdout",
     "output_type": "stream",
     "text": [
      "DiGraph with 400 nodes and 12362 edges\n"
     ]
    }
   ],
   "source": [
    "print(G)"
   ]
  },
  {
   "cell_type": "markdown",
   "id": "bfc4c166",
   "metadata": {},
   "source": [
    "Crear la función top_nodes que mostrará los valores más altos de un diccionario"
   ]
  },
  {
   "cell_type": "code",
   "execution_count": 8,
   "id": "9c736db8",
   "metadata": {
    "tags": []
   },
   "outputs": [],
   "source": [
    "def get_top_nodes(cdict, num=5):\n",
    "    top_nodes ={}\n",
    "    for i in range(num):\n",
    "        top_nodes =dict(\n",
    "            sorted(cdict.items(), key=lambda x: x[1], reverse=True)[:num]\n",
    "            )\n",
    "        return top_nodes"
   ]
  },
  {
   "cell_type": "markdown",
   "id": "cd113263",
   "metadata": {},
   "source": [
    "#### Grado"
   ]
  },
  {
   "cell_type": "markdown",
   "id": "0a846573",
   "metadata": {},
   "source": [
    "Guardar el grado de cada nodo en un diccionario"
   ]
  },
  {
   "cell_type": "code",
   "execution_count": 9,
   "id": "a5f1a92c",
   "metadata": {
    "tags": []
   },
   "outputs": [],
   "source": [
    "gdeg=G.degree()"
   ]
  },
  {
   "cell_type": "code",
   "execution_count": 10,
   "id": "633fadf7",
   "metadata": {
    "tags": []
   },
   "outputs": [
    {
     "data": {
      "text/plain": [
       "274631"
      ]
     },
     "execution_count": 10,
     "metadata": {},
     "output_type": "execute_result"
    }
   ],
   "source": [
    "G.degree(350024,weight=\"secondscalls\")"
   ]
  },
  {
   "cell_type": "code",
   "execution_count": 11,
   "id": "e618cde1",
   "metadata": {
    "tags": []
   },
   "outputs": [
    {
     "data": {
      "text/plain": [
       "{350024: 151, 350153: 148, 350120: 148, 350052: 147, 350156: 146}"
      ]
     },
     "execution_count": 11,
     "metadata": {},
     "output_type": "execute_result"
    }
   ],
   "source": [
    "get_top_nodes(dict(gdeg))"
   ]
  },
  {
   "cell_type": "code",
   "execution_count": 12,
   "id": "61b38e88",
   "metadata": {
    "tags": []
   },
   "outputs": [
    {
     "data": {
      "text/plain": [
       "(array([76., 40., 20.,  4.,  2.,  1.,  4.,  2.,  2.,  1.]),\n",
       " array([ 0. ,  1.9,  3.8,  5.7,  7.6,  9.5, 11.4, 13.3, 15.2, 17.1, 19. ]),\n",
       " <BarContainer object of 10 artists>)"
      ]
     },
     "execution_count": 12,
     "metadata": {},
     "output_type": "execute_result"
    },
    {
     "data": {
      "image/png": "[encoded data removed]",
      "text/plain": [
       "<Figure size 640x480 with 1 Axes>"
      ]
     },
     "metadata": {},
     "output_type": "display_data"
    }
   ],
   "source": [
    "plt.hist(nx.degree_histogram(G))"
   ]
  },
  {
   "cell_type": "code",
   "execution_count": null,
   "id": "8b7b88e5",
   "metadata": {
    "tags": []
   },
   "outputs": [],
   "source": [
    "plt.figure(figsize=(80,45)) \n",
    "nx.draw_networkx(G, width=0.1, node_size=[100*val for(node,val)in gdeg])\n",
    "plt.show()"
   ]
  },
  {
   "cell_type": "markdown",
   "id": "0e78a38c",
   "metadata": {},
   "source": [
    "#### In-Degree"
   ]
  },
  {
   "cell_type": "code",
   "execution_count": 16,
   "id": "e8feb209",
   "metadata": {
    "tags": []
   },
   "outputs": [
    {
     "data": {
      "text/plain": [
       "{350009: 56, 350104: 53, 350118: 51, 350166: 50, 350156: 49}"
      ]
     },
     "execution_count": 16,
     "metadata": {},
     "output_type": "execute_result"
    }
   ],
   "source": [
    "indeg=G.in_degree()\n",
    "get_top_nodes(dict(indeg))"
   ]
  },
  {
   "cell_type": "markdown",
   "id": "4b6e80e7",
   "metadata": {},
   "source": [
    "#### Out-Degree"
   ]
  },
  {
   "cell_type": "code",
   "execution_count": 17,
   "id": "8801992f",
   "metadata": {
    "tags": []
   },
   "outputs": [
    {
     "data": {
      "text/plain": [
       "{350083: 110, 350052: 108, 350153: 107, 350024: 106, 350147: 105}"
      ]
     },
     "execution_count": 17,
     "metadata": {},
     "output_type": "execute_result"
    }
   ],
   "source": [
    "outdeg=G.out_degree()\n",
    "get_top_nodes(dict(outdeg))"
   ]
  },
  {
   "cell_type": "code",
   "execution_count": 18,
   "id": "572d42eb",
   "metadata": {
    "tags": []
   },
   "outputs": [],
   "source": [
    "nx.set_node_attributes(G,dict(gdeg), 'd')\n",
    "nx.set_node_attributes(G,dict(indeg), 'id')\n",
    "nx.set_node_attributes(G,dict(outdeg), 'od')"
   ]
  },
  {
   "cell_type": "code",
   "execution_count": 19,
   "id": "61385595",
   "metadata": {
    "tags": []
   },
   "outputs": [],
   "source": [
    "gdeg=G.degree(weight=\"secondscalls\")\n",
    "indeg=G.in_degree(weight=\"secondscalls\")\n",
    "outdeg=G.out_degree(weight=\"secondscalls\")\n",
    "nx.set_node_attributes(G,dict(gdeg), 'wd')\n",
    "nx.set_node_attributes(G,dict(indeg), 'wid')\n",
    "nx.set_node_attributes(G,dict(outdeg), 'wod')"
   ]
  },
  {
   "cell_type": "markdown",
   "id": "f90ce69a",
   "metadata": {},
   "source": [
    "#### Degree Centrality"
   ]
  },
  {
   "cell_type": "code",
   "execution_count": 20,
   "id": "5ad7ee53",
   "metadata": {
    "tags": []
   },
   "outputs": [
    {
     "data": {
      "text/plain": [
       "{350024: 0.37844611528822053,\n",
       " 350153: 0.37092731829573933,\n",
       " 350120: 0.37092731829573933,\n",
       " 350052: 0.3684210526315789,\n",
       " 350156: 0.3659147869674185}"
      ]
     },
     "execution_count": 20,
     "metadata": {},
     "output_type": "execute_result"
    }
   ],
   "source": [
    "degree_centrality =nx.degree_centrality(G)\n",
    "nx.set_node_attributes(G,degree_centrality, 'dc')\n",
    "get_top_nodes(degree_centrality)"
   ]
  },
  {
   "cell_type": "code",
   "execution_count": null,
   "id": "0b387615",
   "metadata": {
    "tags": []
   },
   "outputs": [],
   "source": [
    "plt.figure(figsize=(80,45)) \n",
    "nx.draw_networkx(G, width=0.1, node_size=[1000*v for v in nx.get_node_attributes(G, 'dc').values()])"
   ]
  },
  {
   "cell_type": "markdown",
   "id": "9b85bea5",
   "metadata": {},
   "source": [
    "#### Betweenness"
   ]
  },
  {
   "cell_type": "code",
   "execution_count": 22,
   "id": "9d1ebd02",
   "metadata": {
    "tags": []
   },
   "outputs": [],
   "source": [
    "betweenness_centrality = nx.betweenness_centrality(G,weight=\"secondscalls\")\n",
    "nx.set_node_attributes(G,betweenness_centrality, 'bc')"
   ]
  },
  {
   "cell_type": "code",
   "execution_count": 23,
   "id": "931e57a7",
   "metadata": {
    "tags": []
   },
   "outputs": [
    {
     "data": {
      "text/plain": [
       "{350146: 0.051890614307964204,\n",
       " 350149: 0.04823197021028283,\n",
       " 350050: 0.04615181169002909,\n",
       " 491615: 0.04194846412513696,\n",
       " 350058: 0.04161471517990957}"
      ]
     },
     "execution_count": 23,
     "metadata": {},
     "output_type": "execute_result"
    }
   ],
   "source": [
    "get_top_nodes(betweenness_centrality)"
   ]
  },
  {
   "cell_type": "code",
   "execution_count": null,
   "id": "9cf1f823",
   "metadata": {
    "tags": []
   },
   "outputs": [],
   "source": [
    "plt.figure(figsize=(80,45)) \n",
    "nx.draw_networkx(G, width=0.1, node_size=[10000 * v for v in nx.get_node_attributes(G, 'bc').values()])"
   ]
  },
  {
   "cell_type": "markdown",
   "id": "733aa00d",
   "metadata": {},
   "source": [
    "#### Closeness"
   ]
  },
  {
   "cell_type": "code",
   "execution_count": 25,
   "id": "14e48b45",
   "metadata": {
    "tags": []
   },
   "outputs": [],
   "source": [
    "closeness_centrality =nx.closeness_centrality(G,distance=\"secondscalls\")\n",
    "nx.set_node_attributes(G,closeness_centrality, 'cc')"
   ]
  },
  {
   "cell_type": "code",
   "execution_count": 26,
   "id": "85ab6bf3",
   "metadata": {
    "tags": []
   },
   "outputs": [
    {
     "data": {
      "text/plain": [
       "{350351: 0.0012212906415447356,\n",
       " 350058: 0.0011350110791255932,\n",
       " 350355: 0.0010927316088256487,\n",
       " 350053: 0.0010791038087459431,\n",
       " 350168: 0.0010580367313951752}"
      ]
     },
     "execution_count": 26,
     "metadata": {},
     "output_type": "execute_result"
    }
   ],
   "source": [
    "get_top_nodes(closeness_centrality)"
   ]
  },
  {
   "cell_type": "code",
   "execution_count": null,
   "id": "4799c84c",
   "metadata": {
    "tags": []
   },
   "outputs": [],
   "source": [
    "plt.figure(figsize=(80,45)) \n",
    "pos =nx.spring_layout(G)\n",
    "ec =nx.draw_networkx_edges(G, width=0.1, pos=pos)\n",
    "nc =nx.draw_networkx_nodes(G, pos=pos,\n",
    "                           node_color=[v for v in nx.get_node_attributes(G, 'cc').values()],\n",
    "                           node_size=[100000 * v for v in nx.get_node_attributes(G, 'cc').values()])\n",
    "lb =nx.draw_networkx_labels(G,pos =pos)"
   ]
  },
  {
   "cell_type": "markdown",
   "id": "2837a660",
   "metadata": {},
   "source": [
    "#### Eigenvector Centrality"
   ]
  },
  {
   "cell_type": "code",
   "execution_count": 28,
   "id": "13133405",
   "metadata": {
    "tags": []
   },
   "outputs": [],
   "source": [
    "eigenvector_centrality = nx.eigenvector_centrality(G,weight=\"secondscalls\")\n",
    "nx.set_node_attributes(G, eigenvector_centrality,'ec')"
   ]
  },
  {
   "cell_type": "code",
   "execution_count": 29,
   "id": "33b38912",
   "metadata": {
    "tags": []
   },
   "outputs": [
    {
     "data": {
      "text/plain": [
       "{350009: 0.08893896365941653,\n",
       " 350158: 0.08639273325401879,\n",
       " 350055: 0.0840124878463603,\n",
       " 350116: 0.08225797071783449,\n",
       " 350163: 0.08207592021576958}"
      ]
     },
     "execution_count": 29,
     "metadata": {},
     "output_type": "execute_result"
    }
   ],
   "source": [
    "get_top_nodes(eigenvector_centrality)"
   ]
  },
  {
   "cell_type": "code",
   "execution_count": null,
   "id": "eee5aa23",
   "metadata": {
    "tags": []
   },
   "outputs": [],
   "source": [
    "plt.figure(figsize=(80,45)) \n",
    "nx.draw_networkx(G, width=0.1, node_size=[20000 * v for v in nx.get_node_attributes(G, 'ec').values()])"
   ]
  },
  {
   "cell_type": "markdown",
   "id": "e1994aa2",
   "metadata": {},
   "source": [
    "#### PageRank Centrality"
   ]
  },
  {
   "cell_type": "code",
   "execution_count": 31,
   "id": "a8fca4b7",
   "metadata": {
    "tags": []
   },
   "outputs": [],
   "source": [
    "pagerank_centrality =nx.pagerank(G,weight=\"secondscalls\")\n",
    "nx.set_node_attributes(G, pagerank_centrality, 'pr')"
   ]
  },
  {
   "cell_type": "code",
   "execution_count": 32,
   "id": "ead839c1",
   "metadata": {
    "tags": []
   },
   "outputs": [
    {
     "data": {
      "text/plain": [
       "{350009: 0.004238294563463267,\n",
       " 350055: 0.0037496240190207242,\n",
       " 350143: 0.0037066697644054436,\n",
       " 350014: 0.0034802272142822176,\n",
       " 350118: 0.0034741822992928263}"
      ]
     },
     "execution_count": 32,
     "metadata": {},
     "output_type": "execute_result"
    }
   ],
   "source": [
    "get_top_nodes(pagerank_centrality)"
   ]
  },
  {
   "cell_type": "code",
   "execution_count": null,
   "id": "cd624d27",
   "metadata": {
    "tags": []
   },
   "outputs": [],
   "source": [
    "plt.figure(figsize=(80,45)) \n",
    "nx.draw_networkx(G, width=0.1, node_size=[50000 * v for v in nx.get_node_attributes(G, 'pr').values()], pos=pos)"
   ]
  },
  {
   "cell_type": "markdown",
   "id": "afb5c34b",
   "metadata": {},
   "source": [
    "## Métricas de Grafo"
   ]
  },
  {
   "cell_type": "markdown",
   "id": "ee1761c0",
   "metadata": {},
   "source": [
    "#### Densidad"
   ]
  },
  {
   "cell_type": "code",
   "execution_count": 36,
   "id": "85aabba7",
   "metadata": {
    "tags": []
   },
   "outputs": [
    {
     "data": {
      "text/plain": [
       "0.0774561403508772"
      ]
     },
     "execution_count": 36,
     "metadata": {},
     "output_type": "execute_result"
    }
   ],
   "source": [
    "nx.density(G)"
   ]
  },
  {
   "cell_type": "markdown",
   "id": "8915bf53",
   "metadata": {},
   "source": [
    "## Calculando el Valor de Red para cada Cliente"
   ]
  },
  {
   "cell_type": "markdown",
   "id": "d80f588d",
   "metadata": {},
   "source": [
    "Extraer las métricas por nodo a un dataframe de Pandas"
   ]
  },
  {
   "cell_type": "code",
   "execution_count": 37,
   "id": "0ad3d894",
   "metadata": {
    "tags": []
   },
   "outputs": [],
   "source": [
    "graph = G.nodes(data = True)"
   ]
  },
  {
   "cell_type": "code",
   "execution_count": 38,
   "id": "795ec24a",
   "metadata": {
    "tags": []
   },
   "outputs": [],
   "source": [
    "def func(graph):\n",
    "    data={}\n",
    "    data['fromuserid']=[x[0] for x in graph]\n",
    "    other_cols = list([*graph][0][1].keys())\n",
    "    for key in other_cols:\n",
    "        data[key] = [x[1][key] for x in graph]\n",
    "    return data"
   ]
  },
  {
   "cell_type": "code",
   "execution_count": 39,
   "id": "89506555",
   "metadata": {
    "tags": []
   },
   "outputs": [],
   "source": [
    "df = pd.DataFrame(func(graph)).sort_values(by=['fromuserid']).reset_index(drop=True)"
   ]
  },
  {
   "cell_type": "code",
   "execution_count": 40,
   "id": "26c3cec0",
   "metadata": {
    "tags": []
   },
   "outputs": [
    {
     "data": {
      "text/html": [
       "<div>\n",
       "<style scoped>\n",
       "    .dataframe tbody tr th:only-of-type {\n",
       "        vertical-align: middle;\n",
       "    }\n",
       "\n",
       "    .dataframe tbody tr th {\n",
       "        vertical-align: top;\n",
       "    }\n",
       "\n",
       "    .dataframe thead th {\n",
       "        text-align: right;\n",
       "    }\n",
       "</style>\n",
       "<table border=\"1\" class=\"dataframe\">\n",
       "  <thead>\n",
       "    <tr style=\"text-align: right;\">\n",
       "      <th></th>\n",
       "      <th>fromuserid</th>\n",
       "      <th>d</th>\n",
       "      <th>id</th>\n",
       "      <th>od</th>\n",
       "      <th>wd</th>\n",
       "      <th>wid</th>\n",
       "      <th>wod</th>\n",
       "      <th>dc</th>\n",
       "      <th>bc</th>\n",
       "      <th>cc</th>\n",
       "      <th>ec</th>\n",
       "      <th>pr</th>\n",
       "    </tr>\n",
       "  </thead>\n",
       "  <tbody>\n",
       "    <tr>\n",
       "      <th>0</th>\n",
       "      <td>350001</td>\n",
       "      <td>38</td>\n",
       "      <td>25</td>\n",
       "      <td>13</td>\n",
       "      <td>76683</td>\n",
       "      <td>58356</td>\n",
       "      <td>18327</td>\n",
       "      <td>0.095238</td>\n",
       "      <td>0.000057</td>\n",
       "      <td>0.000430</td>\n",
       "      <td>0.045354</td>\n",
       "      <td>0.002707</td>\n",
       "    </tr>\n",
       "    <tr>\n",
       "      <th>1</th>\n",
       "      <td>350002</td>\n",
       "      <td>85</td>\n",
       "      <td>23</td>\n",
       "      <td>62</td>\n",
       "      <td>169095</td>\n",
       "      <td>40584</td>\n",
       "      <td>128511</td>\n",
       "      <td>0.213033</td>\n",
       "      <td>0.002963</td>\n",
       "      <td>0.000598</td>\n",
       "      <td>0.032892</td>\n",
       "      <td>0.002428</td>\n",
       "    </tr>\n",
       "    <tr>\n",
       "      <th>2</th>\n",
       "      <td>350004</td>\n",
       "      <td>110</td>\n",
       "      <td>37</td>\n",
       "      <td>73</td>\n",
       "      <td>219347</td>\n",
       "      <td>70530</td>\n",
       "      <td>148817</td>\n",
       "      <td>0.275689</td>\n",
       "      <td>0.001354</td>\n",
       "      <td>0.000587</td>\n",
       "      <td>0.055589</td>\n",
       "      <td>0.003021</td>\n",
       "    </tr>\n",
       "    <tr>\n",
       "      <th>3</th>\n",
       "      <td>350005</td>\n",
       "      <td>98</td>\n",
       "      <td>35</td>\n",
       "      <td>63</td>\n",
       "      <td>195879</td>\n",
       "      <td>61745</td>\n",
       "      <td>134134</td>\n",
       "      <td>0.245614</td>\n",
       "      <td>0.002242</td>\n",
       "      <td>0.000621</td>\n",
       "      <td>0.047534</td>\n",
       "      <td>0.002735</td>\n",
       "    </tr>\n",
       "    <tr>\n",
       "      <th>4</th>\n",
       "      <td>350006</td>\n",
       "      <td>83</td>\n",
       "      <td>42</td>\n",
       "      <td>41</td>\n",
       "      <td>176209</td>\n",
       "      <td>91916</td>\n",
       "      <td>84293</td>\n",
       "      <td>0.208020</td>\n",
       "      <td>0.026027</td>\n",
       "      <td>0.000974</td>\n",
       "      <td>0.068849</td>\n",
       "      <td>0.002913</td>\n",
       "    </tr>\n",
       "  </tbody>\n",
       "</table>\n",
       "</div>"
      ],
      "text/plain": [
       "   fromuserid    d  id  od      wd    wid     wod        dc        bc  \\\n",
       "0      350001   38  25  13   76683  58356   18327  0.095238  0.000057   \n",
       "1      350002   85  23  62  169095  40584  128511  0.213033  0.002963   \n",
       "2      350004  110  37  73  219347  70530  148817  0.275689  0.001354   \n",
       "3      350005   98  35  63  195879  61745  134134  0.245614  0.002242   \n",
       "4      350006   83  42  41  176209  91916   84293  0.208020  0.026027   \n",
       "\n",
       "         cc        ec        pr  \n",
       "0  0.000430  0.045354  0.002707  \n",
       "1  0.000598  0.032892  0.002428  \n",
       "2  0.000587  0.055589  0.003021  \n",
       "3  0.000621  0.047534  0.002735  \n",
       "4  0.000974  0.068849  0.002913  "
      ]
     },
     "execution_count": 40,
     "metadata": {},
     "output_type": "execute_result"
    }
   ],
   "source": [
    "df.head()"
   ]
  },
  {
   "cell_type": "code",
   "execution_count": 41,
   "id": "dd855cd8",
   "metadata": {
    "tags": []
   },
   "outputs": [
    {
     "name": "stdout",
     "output_type": "stream",
     "text": [
      "<class 'pandas.core.frame.DataFrame'>\n",
      "RangeIndex: 400 entries, 0 to 399\n",
      "Data columns (total 12 columns):\n",
      " #   Column      Non-Null Count  Dtype  \n",
      "---  ------      --------------  -----  \n",
      " 0   fromuserid  400 non-null    int64  \n",
      " 1   d           400 non-null    int64  \n",
      " 2   id          400 non-null    int64  \n",
      " 3   od          400 non-null    int64  \n",
      " 4   wd          400 non-null    int64  \n",
      " 5   wid         400 non-null    int64  \n",
      " 6   wod         400 non-null    int64  \n",
      " 7   dc          400 non-null    float64\n",
      " 8   bc          400 non-null    float64\n",
      " 9   cc          400 non-null    float64\n",
      " 10  ec          400 non-null    float64\n",
      " 11  pr          400 non-null    float64\n",
      "dtypes: float64(5), int64(7)\n",
      "memory usage: 37.6 KB\n"
     ]
    }
   ],
   "source": [
    "df.info()"
   ]
  },
  {
   "cell_type": "markdown",
   "id": "f0bb32ff",
   "metadata": {},
   "source": [
    "Exportando para utilizar fuera"
   ]
  },
  {
   "cell_type": "code",
   "execution_count": 42,
   "id": "94cf009c",
   "metadata": {
    "tags": []
   },
   "outputs": [],
   "source": [
    "df.to_csv(r'ind_grafo.csv',index=False)"
   ]
  },
  {
   "cell_type": "markdown",
   "id": "2191b9cb",
   "metadata": {},
   "source": [
    "Elaborado por Luis Cajachahua bajo licencia MIT (2024)"
   ]
  }
 ],
 "metadata": {
  "kernelspec": {
   "display_name": "Python 3 (ipykernel)",
   "language": "python",
   "name": "python3"
  },
  "language_info": {
   "codemirror_mode": {
    "name": "ipython",
    "version": 3
   },
   "file_extension": ".py",
   "mimetype": "text/x-python",
   "name": "python",
   "nbconvert_exporter": "python",
   "pygments_lexer": "ipython3",
   "version": "3.10.10"
  }
 },
 "nbformat": 4,
 "nbformat_minor": 5
}
