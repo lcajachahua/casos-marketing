{
 "cells": [
  {
   "cell_type": "markdown",
   "id": "a479aa3e",
   "metadata": {},
   "source": [
    "# Caso: Análisis de CDR de una Empresa de Telecomunicaciones"
   ]
  },
  {
   "cell_type": "markdown",
   "id": "31837b5f",
   "metadata": {},
   "source": [
    "## Cargar archivos csv\n",
    "Utilizamos un Call Detail Record de ejemplo\n",
    "##### Clientes llamantes: 199\n",
    "##### Clientes llamados: 400\n",
    "##### Horizonte de tiempo: De Nov-2012 a Ene-2014 (15 meses)"
   ]
  },
  {
   "cell_type": "code",
   "execution_count": null,
   "id": "b5c3d5cd",
   "metadata": {},
   "outputs": [],
   "source": [
    "import pandas as pd\n",
    "import numpy as np \n",
    "import matplotlib.pyplot as plt\n",
    "import networkx as nx\n",
    "import time"
   ]
  },
  {
   "cell_type": "code",
   "execution_count": null,
   "id": "b63670ca",
   "metadata": {},
   "outputs": [],
   "source": [
    "h = pd.read_csv('llamadas.csv')"
   ]
  },
  {
   "cell_type": "markdown",
   "id": "de43483d",
   "metadata": {},
   "source": [
    "Revisamos la información del DataFrame"
   ]
  },
  {
   "cell_type": "code",
   "execution_count": null,
   "id": "40409c12",
   "metadata": {},
   "outputs": [],
   "source": [
    "h.info()"
   ]
  },
  {
   "cell_type": "markdown",
   "id": "6e36ad79",
   "metadata": {},
   "source": [
    "Transformamos el DataFrame en un Grafo dirigido con pesos (cantidad de llamadas y duración)"
   ]
  },
  {
   "cell_type": "code",
   "execution_count": null,
   "id": "40f64eab",
   "metadata": {},
   "outputs": [],
   "source": [
    "G = nx.from_pandas_edgelist(h, source=\"fromuserid\", target=\"touserid\", edge_attr=[\"numbercalls\",\"secondscalls\"], create_using=nx.DiGraph())\n",
    "print(nx.info(G))"
   ]
  },
  {
   "cell_type": "markdown",
   "id": "bfc4c166",
   "metadata": {},
   "source": [
    "Crear la función top_nodes que mostrará los valores más altos de un diccionario"
   ]
  },
  {
   "cell_type": "code",
   "execution_count": null,
   "id": "9c736db8",
   "metadata": {},
   "outputs": [],
   "source": [
    "def get_top_nodes(cdict, num=5):\n",
    "    top_nodes ={}\n",
    "    for i in range(num):\n",
    "        top_nodes =dict(\n",
    "            sorted(cdict.items(), key=lambda x: x[1], reverse=True)[:num]\n",
    "            )\n",
    "        return top_nodes"
   ]
  },
  {
   "cell_type": "markdown",
   "id": "cd113263",
   "metadata": {},
   "source": [
    "#### Grado"
   ]
  },
  {
   "cell_type": "markdown",
   "id": "0a846573",
   "metadata": {},
   "source": [
    "Guardar el grado de cada nodo en un diccionario"
   ]
  },
  {
   "cell_type": "code",
   "execution_count": null,
   "id": "a5f1a92c",
   "metadata": {},
   "outputs": [],
   "source": [
    "gdeg=G.degree()"
   ]
  },
  {
   "cell_type": "code",
   "execution_count": null,
   "id": "633fadf7",
   "metadata": {},
   "outputs": [],
   "source": [
    "G.degree(350024,weight=\"secondscalls\")"
   ]
  },
  {
   "cell_type": "code",
   "execution_count": null,
   "id": "e618cde1",
   "metadata": {},
   "outputs": [],
   "source": [
    "get_top_nodes(dict(gdeg))"
   ]
  },
  {
   "cell_type": "code",
   "execution_count": null,
   "id": "61b38e88",
   "metadata": {},
   "outputs": [],
   "source": [
    "plt.hist(nx.degree_histogram(G))"
   ]
  },
  {
   "cell_type": "code",
   "execution_count": null,
   "id": "1f4435b5",
   "metadata": {},
   "outputs": [],
   "source": [
    "print(nx.info(G,350159))"
   ]
  },
  {
   "cell_type": "code",
   "execution_count": null,
   "id": "8b7b88e5",
   "metadata": {},
   "outputs": [],
   "source": [
    "plt.figure(figsize=(80,45)) \n",
    "nx.draw_networkx(G, width=0.1, node_size=[100*val for(node,val)in gdeg])\n",
    "plt.show()"
   ]
  },
  {
   "cell_type": "markdown",
   "id": "0e78a38c",
   "metadata": {},
   "source": [
    "#### In-Degree"
   ]
  },
  {
   "cell_type": "code",
   "execution_count": null,
   "id": "e8feb209",
   "metadata": {},
   "outputs": [],
   "source": [
    "indeg=G.in_degree()\n",
    "get_top_nodes(dict(indeg))"
   ]
  },
  {
   "cell_type": "markdown",
   "id": "4b6e80e7",
   "metadata": {},
   "source": [
    "#### Out-Degree"
   ]
  },
  {
   "cell_type": "code",
   "execution_count": null,
   "id": "8801992f",
   "metadata": {},
   "outputs": [],
   "source": [
    "outdeg=G.out_degree()\n",
    "get_top_nodes(dict(outdeg))"
   ]
  },
  {
   "cell_type": "code",
   "execution_count": null,
   "id": "572d42eb",
   "metadata": {},
   "outputs": [],
   "source": [
    "nx.set_node_attributes(G,dict(gdeg), 'd')\n",
    "nx.set_node_attributes(G,dict(indeg), 'id')\n",
    "nx.set_node_attributes(G,dict(outdeg), 'od')"
   ]
  },
  {
   "cell_type": "code",
   "execution_count": null,
   "id": "61385595",
   "metadata": {},
   "outputs": [],
   "source": [
    "gdeg=G.degree(weight=\"secondscalls\")\n",
    "indeg=G.in_degree(weight=\"secondscalls\")\n",
    "outdeg=G.out_degree(weight=\"secondscalls\")\n",
    "nx.set_node_attributes(G,dict(gdeg), 'wd')\n",
    "nx.set_node_attributes(G,dict(indeg), 'wid')\n",
    "nx.set_node_attributes(G,dict(outdeg), 'wod')"
   ]
  },
  {
   "cell_type": "markdown",
   "id": "f90ce69a",
   "metadata": {},
   "source": [
    "#### Degree Centrality"
   ]
  },
  {
   "cell_type": "code",
   "execution_count": null,
   "id": "5ad7ee53",
   "metadata": {},
   "outputs": [],
   "source": [
    "degree_centrality =nx.degree_centrality(G)\n",
    "nx.set_node_attributes(G,degree_centrality, 'dc')\n",
    "get_top_nodes(degree_centrality)"
   ]
  },
  {
   "cell_type": "code",
   "execution_count": null,
   "id": "0b387615",
   "metadata": {},
   "outputs": [],
   "source": [
    "plt.figure(figsize=(80,45)) \n",
    "nx.draw_networkx(G, width=0.1, node_size=[1000*v for v in nx.get_node_attributes(G, 'dc').values()])"
   ]
  },
  {
   "cell_type": "markdown",
   "id": "9b85bea5",
   "metadata": {},
   "source": [
    "#### Betweenness"
   ]
  },
  {
   "cell_type": "code",
   "execution_count": null,
   "id": "9d1ebd02",
   "metadata": {},
   "outputs": [],
   "source": [
    "betweenness_centrality = nx.betweenness_centrality(G,weight=\"secondscalls\")\n",
    "nx.set_node_attributes(G,betweenness_centrality, 'bc')"
   ]
  },
  {
   "cell_type": "code",
   "execution_count": null,
   "id": "931e57a7",
   "metadata": {},
   "outputs": [],
   "source": [
    "get_top_nodes(betweenness_centrality)"
   ]
  },
  {
   "cell_type": "code",
   "execution_count": null,
   "id": "9cf1f823",
   "metadata": {},
   "outputs": [],
   "source": [
    "plt.figure(figsize=(80,45)) \n",
    "nx.draw_networkx(G, width=0.1, node_size=[10000 * v for v in nx.get_node_attributes(G, 'bc').values()])"
   ]
  },
  {
   "cell_type": "markdown",
   "id": "733aa00d",
   "metadata": {},
   "source": [
    "#### Closeness"
   ]
  },
  {
   "cell_type": "code",
   "execution_count": null,
   "id": "14e48b45",
   "metadata": {},
   "outputs": [],
   "source": [
    "closeness_centrality =nx.closeness_centrality(G,distance=\"secondscalls\")\n",
    "nx.set_node_attributes(G,closeness_centrality, 'cc')"
   ]
  },
  {
   "cell_type": "code",
   "execution_count": null,
   "id": "85ab6bf3",
   "metadata": {},
   "outputs": [],
   "source": [
    "get_top_nodes(closeness_centrality)"
   ]
  },
  {
   "cell_type": "code",
   "execution_count": null,
   "id": "4799c84c",
   "metadata": {},
   "outputs": [],
   "source": [
    "plt.figure(figsize=(80,45)) \n",
    "pos =nx.spring_layout(G)\n",
    "ec =nx.draw_networkx_edges(G, width=0.1, pos=pos)\n",
    "nc =nx.draw_networkx_nodes(G, pos=pos,\n",
    "                           node_color=[v for v in nx.get_node_attributes(G, 'cc').values()],\n",
    "                           node_size=[100000 * v for v in nx.get_node_attributes(G, 'cc').values()])\n",
    "lb =nx.draw_networkx_labels(G,pos =pos)"
   ]
  },
  {
   "cell_type": "markdown",
   "id": "2837a660",
   "metadata": {},
   "source": [
    "#### Eigenvector Centrality"
   ]
  },
  {
   "cell_type": "code",
   "execution_count": null,
   "id": "13133405",
   "metadata": {},
   "outputs": [],
   "source": [
    "eigenvector_centrality = nx.eigenvector_centrality(G,weight=\"secondscalls\")\n",
    "nx.set_node_attributes(G, eigenvector_centrality,'ec')"
   ]
  },
  {
   "cell_type": "code",
   "execution_count": null,
   "id": "33b38912",
   "metadata": {},
   "outputs": [],
   "source": [
    "get_top_nodes(eigenvector_centrality)"
   ]
  },
  {
   "cell_type": "code",
   "execution_count": null,
   "id": "eee5aa23",
   "metadata": {},
   "outputs": [],
   "source": [
    "plt.figure(figsize=(80,45)) \n",
    "nx.draw_networkx(G, width=0.1, node_size=[20000 * v for v in nx.get_node_attributes(G, 'ec').values()])"
   ]
  },
  {
   "cell_type": "markdown",
   "id": "e1994aa2",
   "metadata": {},
   "source": [
    "#### PageRank Centrality"
   ]
  },
  {
   "cell_type": "code",
   "execution_count": null,
   "id": "a8fca4b7",
   "metadata": {},
   "outputs": [],
   "source": [
    "pagerank_centrality =nx.pagerank(G,weight=\"secondscalls\")\n",
    "nx.set_node_attributes(G, pagerank_centrality, 'pr')"
   ]
  },
  {
   "cell_type": "code",
   "execution_count": null,
   "id": "ead839c1",
   "metadata": {},
   "outputs": [],
   "source": [
    "get_top_nodes(pagerank_centrality)"
   ]
  },
  {
   "cell_type": "code",
   "execution_count": null,
   "id": "cd624d27",
   "metadata": {},
   "outputs": [],
   "source": [
    "plt.figure(figsize=(80,45)) \n",
    "nx.draw_networkx(G, width=0.1, node_size=[50000 * v for v in nx.get_node_attributes(G, 'pr').values()], pos=pos)"
   ]
  },
  {
   "cell_type": "markdown",
   "id": "afb5c34b",
   "metadata": {},
   "source": [
    "## Métricas de Grafo"
   ]
  },
  {
   "cell_type": "markdown",
   "id": "25af16b3",
   "metadata": {},
   "source": [
    "#### Average Path Length"
   ]
  },
  {
   "cell_type": "code",
   "execution_count": null,
   "id": "89534766",
   "metadata": {},
   "outputs": [],
   "source": [
    "nx.average_shortest_path_length(G)"
   ]
  },
  {
   "cell_type": "markdown",
   "id": "5450d572",
   "metadata": {},
   "source": [
    "#### Diametro"
   ]
  },
  {
   "cell_type": "code",
   "execution_count": null,
   "id": "0dac3cfd",
   "metadata": {
    "tags": []
   },
   "outputs": [],
   "source": [
    "nx.diameter(G)"
   ]
  },
  {
   "cell_type": "markdown",
   "id": "ee1761c0",
   "metadata": {},
   "source": [
    "#### Densidad"
   ]
  },
  {
   "cell_type": "code",
   "execution_count": null,
   "id": "85aabba7",
   "metadata": {},
   "outputs": [],
   "source": [
    "nx.density(G)"
   ]
  },
  {
   "cell_type": "markdown",
   "id": "8915bf53",
   "metadata": {},
   "source": [
    "## Calculando el Valor de Red para cada Cliente"
   ]
  },
  {
   "cell_type": "markdown",
   "id": "d80f588d",
   "metadata": {},
   "source": [
    "Extraer las métricas por nodo a un dataframe de Pandas"
   ]
  },
  {
   "cell_type": "code",
   "execution_count": null,
   "id": "0ad3d894",
   "metadata": {},
   "outputs": [],
   "source": [
    "graph = G.nodes(data = True)"
   ]
  },
  {
   "cell_type": "code",
   "execution_count": null,
   "id": "795ec24a",
   "metadata": {},
   "outputs": [],
   "source": [
    "def func(graph):\n",
    "    data={}\n",
    "    data['fromuserid']=[x[0] for x in graph]\n",
    "    other_cols = list([*graph][0][1].keys())\n",
    "    for key in other_cols:\n",
    "        data[key] = [x[1][key] for x in graph]\n",
    "    return data"
   ]
  },
  {
   "cell_type": "code",
   "execution_count": null,
   "id": "89506555",
   "metadata": {},
   "outputs": [],
   "source": [
    "df = pd.DataFrame(func(graph)).sort_values(by=['fromuserid']).reset_index(drop=True)"
   ]
  },
  {
   "cell_type": "code",
   "execution_count": null,
   "id": "26c3cec0",
   "metadata": {},
   "outputs": [],
   "source": [
    "df.head()"
   ]
  },
  {
   "cell_type": "code",
   "execution_count": null,
   "id": "dd855cd8",
   "metadata": {},
   "outputs": [],
   "source": [
    "df.info()"
   ]
  },
  {
   "cell_type": "markdown",
   "id": "f0bb32ff",
   "metadata": {},
   "source": [
    "Exportando para utilizar fuera"
   ]
  },
  {
   "cell_type": "code",
   "execution_count": null,
   "id": "94cf009c",
   "metadata": {},
   "outputs": [],
   "source": [
    "df.to_csv(r'../data/ind_grafo.csv',index=False)"
   ]
  },
  {
   "cell_type": "markdown",
   "id": "2191b9cb",
   "metadata": {},
   "source": [
    "Elaborado por Luis Cajachahua bajo licencia MIT (2021)"
   ]
  }
 ],
 "metadata": {
  "kernelspec": {
   "display_name": "Python 3",
   "language": "python",
   "name": "python3"
  },
  "language_info": {
   "codemirror_mode": {
    "name": "ipython",
    "version": 3
   },
   "file_extension": ".py",
   "mimetype": "text/x-python",
   "name": "python",
   "nbconvert_exporter": "python",
   "pygments_lexer": "ipython3",
   "version": "3.8.8"
  }
 },
 "nbformat": 4,
 "nbformat_minor": 5
}
