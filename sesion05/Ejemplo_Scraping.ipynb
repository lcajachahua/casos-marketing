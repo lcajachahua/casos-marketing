{
 "cells": [
  {
   "cell_type": "markdown",
   "id": "1f09c361-e4c8-4721-83da-1421a35179f4",
   "metadata": {},
   "source": [
    "# Scraping de un sitio Web"
   ]
  },
  {
   "cell_type": "markdown",
   "id": "51779ca7-df93-40a3-8799-e4a30dedd7e6",
   "metadata": {},
   "source": [
    "En este caso, tenemos un ejemplo de cómo se extra información de una página web"
   ]
  },
  {
   "cell_type": "markdown",
   "id": "0fafe39a-878f-4e91-92d8-920b759e0c86",
   "metadata": {},
   "source": [
    "#### Instalar la Librería"
   ]
  },
  {
   "cell_type": "code",
   "execution_count": 1,
   "id": "cbd48db4-f470-4be0-938c-12b83b08d513",
   "metadata": {
    "tags": []
   },
   "outputs": [
    {
     "name": "stderr",
     "output_type": "stream",
     "text": [
      "Updating HTML index of packages in '.Library'\n",
      "\n",
      "Making 'packages.html' ...\n",
      " done\n",
      "\n"
     ]
    }
   ],
   "source": [
    "install.packages(\"rvest\")"
   ]
  },
  {
   "cell_type": "markdown",
   "id": "af0a3825-0bee-408c-ad64-2b22de796260",
   "metadata": {},
   "source": [
    "#### Activarla"
   ]
  },
  {
   "cell_type": "code",
   "execution_count": 2,
   "id": "e2d8db2e-6001-4b0a-9892-25247966977f",
   "metadata": {
    "tags": []
   },
   "outputs": [],
   "source": [
    "library(rvest)"
   ]
  },
  {
   "cell_type": "markdown",
   "id": "2904be1e-15fa-472f-b995-1e494c39dfca",
   "metadata": {},
   "source": [
    "#### Leer la página web con read_html()"
   ]
  },
  {
   "cell_type": "code",
   "execution_count": 3,
   "id": "2095c3fc-6458-4058-a1c1-2cf9a2a9d21c",
   "metadata": {
    "tags": []
   },
   "outputs": [],
   "source": [
    "web <- read_html(\"https://www.budgetperu.com/reservar/paso-2?datefrom=08%2F12%2F2020&hourfrom=12&dateto=26%2F12%2F2020&hourto=12&officefrom=5&officeto=5\")"
   ]
  },
  {
   "cell_type": "markdown",
   "id": "4b099580-9874-488b-8bfa-b8cd24ea90e0",
   "metadata": {},
   "source": [
    "#### Extraer la Marca y Modelo del Vehículo"
   ]
  },
  {
   "cell_type": "code",
   "execution_count": 4,
   "id": "71acaac3-11d0-448f-b224-b583558f61ab",
   "metadata": {
    "tags": []
   },
   "outputs": [],
   "source": [
    "MarcaModelo<-web %>% html_nodes(\".card__name\") %>% html_text()"
   ]
  },
  {
   "cell_type": "markdown",
   "id": "f71e88da-487d-4f8f-93ca-051c09b0f497",
   "metadata": {},
   "source": [
    "#### Extraer el Precio de Alquiler"
   ]
  },
  {
   "cell_type": "code",
   "execution_count": 5,
   "id": "e815a9ed-876f-4dda-9b5c-330018bbfa28",
   "metadata": {
    "tags": []
   },
   "outputs": [],
   "source": [
    "Precio<-web %>% html_nodes(\".card__price strong\") %>% html_text()"
   ]
  },
  {
   "cell_type": "markdown",
   "id": "453fbb24-ef4e-4151-a18d-efc5a70b2ffb",
   "metadata": {},
   "source": [
    "#### Combinando los datos para exportar"
   ]
  },
  {
   "cell_type": "code",
   "execution_count": 6,
   "id": "50938860-16cf-47dd-9d45-8d3767ff0f72",
   "metadata": {
    "tags": []
   },
   "outputs": [],
   "source": [
    "base<-data.frame(MarcaModelo,Precio)"
   ]
  },
  {
   "cell_type": "code",
   "execution_count": 7,
   "id": "4d4462da-4abc-4377-8eb3-e8b74818449f",
   "metadata": {
    "tags": []
   },
   "outputs": [
    {
     "data": {
      "text/html": [
       "<table class=\"dataframe\">\n",
       "<caption>A data.frame: 6 × 2</caption>\n",
       "<thead>\n",
       "\t<tr><th></th><th scope=col>MarcaModelo</th><th scope=col>Precio</th></tr>\n",
       "\t<tr><th></th><th scope=col>&lt;chr&gt;</th><th scope=col>&lt;chr&gt;</th></tr>\n",
       "</thead>\n",
       "<tbody>\n",
       "\t<tr><th scope=row>1</th><td>Picanto MT (sólo Lima Ciudad) o similar</td><td>S/89.70/día </td></tr>\n",
       "\t<tr><th scope=row>2</th><td>Picanto AT (sólo Lima Ciudad) o similar</td><td>S/105.30/día</td></tr>\n",
       "\t<tr><th scope=row>3</th><td>Kia Soluto MT o similar                </td><td>S/113.10/día</td></tr>\n",
       "\t<tr><th scope=row>4</th><td>Kia Rio MT o similar                   </td><td>S/124.80/día</td></tr>\n",
       "\t<tr><th scope=row>5</th><td>Kia Soluto AT o similar                </td><td>S/120.90/día</td></tr>\n",
       "\t<tr><th scope=row>6</th><td>Toyota Yaris MT o similar              </td><td>S/117.00/día</td></tr>\n",
       "</tbody>\n",
       "</table>\n"
      ],
      "text/latex": [
       "A data.frame: 6 × 2\n",
       "\\begin{tabular}{r|ll}\n",
       "  & MarcaModelo & Precio\\\\\n",
       "  & <chr> & <chr>\\\\\n",
       "\\hline\n",
       "\t1 & Picanto MT (sólo Lima Ciudad) o similar & S/89.70/día \\\\\n",
       "\t2 & Picanto AT (sólo Lima Ciudad) o similar & S/105.30/día\\\\\n",
       "\t3 & Kia Soluto MT o similar                 & S/113.10/día\\\\\n",
       "\t4 & Kia Rio MT o similar                    & S/124.80/día\\\\\n",
       "\t5 & Kia Soluto AT o similar                 & S/120.90/día\\\\\n",
       "\t6 & Toyota Yaris MT o similar               & S/117.00/día\\\\\n",
       "\\end{tabular}\n"
      ],
      "text/markdown": [
       "\n",
       "A data.frame: 6 × 2\n",
       "\n",
       "| <!--/--> | MarcaModelo &lt;chr&gt; | Precio &lt;chr&gt; |\n",
       "|---|---|---|\n",
       "| 1 | Picanto MT (sólo Lima Ciudad) o similar | S/89.70/día  |\n",
       "| 2 | Picanto AT (sólo Lima Ciudad) o similar | S/105.30/día |\n",
       "| 3 | Kia Soluto MT o similar                 | S/113.10/día |\n",
       "| 4 | Kia Rio MT o similar                    | S/124.80/día |\n",
       "| 5 | Kia Soluto AT o similar                 | S/120.90/día |\n",
       "| 6 | Toyota Yaris MT o similar               | S/117.00/día |\n",
       "\n"
      ],
      "text/plain": [
       "  MarcaModelo                             Precio      \n",
       "1 Picanto MT (sólo Lima Ciudad) o similar S/89.70/día \n",
       "2 Picanto AT (sólo Lima Ciudad) o similar S/105.30/día\n",
       "3 Kia Soluto MT o similar                 S/113.10/día\n",
       "4 Kia Rio MT o similar                    S/124.80/día\n",
       "5 Kia Soluto AT o similar                 S/120.90/día\n",
       "6 Toyota Yaris MT o similar               S/117.00/día"
      ]
     },
     "metadata": {},
     "output_type": "display_data"
    }
   ],
   "source": [
    "head(base)"
   ]
  },
  {
   "cell_type": "code",
   "execution_count": 8,
   "id": "918a49ee-6b35-4bc2-82ef-ee2cd984f6a8",
   "metadata": {
    "tags": []
   },
   "outputs": [],
   "source": [
    "write.csv(base, \"vehiculos.csv\")"
   ]
  },
  {
   "cell_type": "markdown",
   "id": "0d427a9d-996d-48cb-9ff7-1566142e8434",
   "metadata": {},
   "source": [
    "Elaborado por Luis Cajachahua bajo licencia MIT (2024)"
   ]
  }
 ],
 "metadata": {
  "kernelspec": {
   "display_name": "R",
   "language": "R",
   "name": "ir"
  },
  "language_info": {
   "codemirror_mode": "r",
   "file_extension": ".r",
   "mimetype": "text/x-r-source",
   "name": "R",
   "pygments_lexer": "r",
   "version": "4.2.3"
  }
 },
 "nbformat": 4,
 "nbformat_minor": 5
}
